{
 "cells": [
  {
   "attachments": {},
   "cell_type": "markdown",
   "metadata": {},
   "source": [
    "# Image Features\n",
    "\n",
    "## Goals:\n",
    "- learn feature extraction, first step of use image features for applications\n",
    "- learn what characteristics make good image features\n",
    "- learn different algorithms used to extract features in images"
   ]
  },
  {
   "attachments": {},
   "cell_type": "markdown",
   "metadata": {},
   "source": [
    "## 1. Feature Dectecion\n",
    "- features are points of interest in an image\n",
    "- points of interest should have the following characteristics:\n",
    "    - Saliency: distinctive, identifiable, and different from its imemediate neighborhood\n",
    "    - Reppeatability: can be found in multiple images using same operations\n",
    "    - Locality: occupies a relatively small subset of image space\n",
    "        - should not change much under small changes in image\n",
    "    - Quantity: enough points represented in the image\n",
    "    - Efficency: reasonable computing time as a preprocessing step\n",
    "\n",
    "\n",
    "Extraction:\n",
    "\n",
    "- repetitive texture less patches are challenging to detect consistently\n",
    "- patches with large contrast changes (gradients) are easier to detect (edges)\n",
    "- gradients in at least two (significantly) different orientations are the easiest to detect (corners)\n",
    "    - famous corner algorithm: Harris Corner Detection\n"
   ]
  },
  {
   "attachments": {},
   "cell_type": "markdown",
   "metadata": {},
   "source": [
    "### 1.1 Feature Detection Algorithms\n",
    "- Harris -> corners\n",
    "  - easy to compute, but not sacale invariant\n",
    "- Harris-Laplace -> corners\n",
    "  - scale invariant\n",
    "- Features from acclerated segment test (FAST) -> corners\n",
    "  - machine learning approach for fast corner detection\n",
    "- Laplacian of Gaussian (LOG) detector -> blobs\n",
    "  - scale invariant, but not rotation invariant\n",
    "- Difference of Gaussian (DOG) detector -> blobs\n",
    "  - approximate LOG, but faster\n"
   ]
  },
  {
   "attachments": {},
   "cell_type": "markdown",
   "metadata": {},
   "source": [
    "### 1.1 Harris Corner Detection\n"
   ]
  },
  {
   "attachments": {},
   "cell_type": "markdown",
   "metadata": {},
   "source": [
    "## 2. Feature Descriptors\n",
    "\n",
    "- what characteristics make a good feature descriptor\n",
    "- different algorithms used to extract feature descriptors from images\n",
    "\n",
    "\n",
    "- Feature: points of interest in an image defined by pixel coordinates $[u,v]$\n",
    "- Descriptor: an N-dimensional vector that provides a summary of the image information around the detected feature $\\{f_1, f_2, ..., f_N\\}$\n",
    "\n",
    "- Feature descriptors should have the following characteristics:\n",
    "    - Distinctiveness: different features should have different descriptors\n",
    "    - Robustness: descriptors should be able to be matched even if the image is transformed\n",
    "    - Compactness: descriptors should be small enough to be stored and compared efficiently\n",
    "    - Efficiency: descriptors should be able to be computed quickly\n",
    "\n",
    "\n",
    "SIFT: Scale Invariant Feature Transform\n",
    "1. 16X16 pixel window around detected feature -> feature local neighborhood\n",
    "2. separate into 4x4 cells\n",
    "3. compute edge orientation of each pixel in the cell\n",
    "4. suppress weak edges using predefined threshold\n",
    "5. construct 32 dimensional histogram of edge orientations for each cell, then concatenate to form 128 dimensional feature descriptor\n",
    "\n",
    "- SIFT is used in many state-of-art systems\n",
    "- Combined with DOG feature detector, SIFT descriptors provide a scalue, rotation, and illumation invariant feature detector/descriptor pair\n",
    "\n",
    "\n",
    "Other Feature Descriptors:\n",
    "- Speeded Up Robust Features (SURF)\n",
    "- Gradient Location and Orientation Histogram (GLOH)\n",
    "- Binary Robust Independent Elementary Features (BRIEF)\n",
    "- Oriented FAST and Rotated BRIEF (ORB)\n"
   ]
  }
 ],
 "metadata": {
  "language_info": {
   "name": "python"
  },
  "orig_nbformat": 4
 },
 "nbformat": 4,
 "nbformat_minor": 2
}
